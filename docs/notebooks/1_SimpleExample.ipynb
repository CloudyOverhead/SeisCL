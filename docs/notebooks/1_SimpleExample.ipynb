{
 "cells": [
  {
   "cell_type": "markdown",
   "metadata": {},
   "source": [
    "# Simple example\n",
    "\n",
    "SeisCL is of program that performs forward and adjoint seismic modeling for imaging and inversion. In this first example, we show how to use SeisCL to perform basic seismic modeling with the python wrapper. This simple example will solve the 2D isotropic elastic wave equation. "
   ]
  },
  {
   "cell_type": "markdown",
   "metadata": {},
   "source": [
    "The first thing to do is to load the SeisCL class and relevant modules:"
   ]
  },
  {
   "cell_type": "code",
   "execution_count": 1,
   "metadata": {
    "tags": []
   },
   "outputs": [],
   "source": [
    "from SeisCL import SeisCL\n",
    "import numpy as np\n",
    "import matplotlib.pyplot as plt\n",
    "import os"
   ]
  },
  {
   "cell_type": "markdown",
   "metadata": {},
   "source": [
    "SeisCL is controlled by a single class in python that will group all relevant information to perform forward and adjoint modeling. The class creates all parameters with default values: they can be set at inialization or can be changed later. Note that all the available parameters are defined in the docstring of the `SeisCL` class."
   ]
  },
  {
   "cell_type": "code",
   "execution_count": 2,
   "metadata": {},
   "outputs": [],
   "source": [
    "seis = SeisCL()"
   ]
  },
  {
   "cell_type": "markdown",
   "metadata": {},
   "source": [
    "The class creates all parameters with default values: they can be set at inialization or can be changed later. Note that all the available parameters are defined in the docstring of the SeisCL class, which can be accessed by using the help function:"
   ]
  },
  {
   "cell_type": "code",
   "execution_count": 3,
   "metadata": {},
   "outputs": [
    {
     "name": "stdout",
     "output_type": "stream",
     "text": [
      "Help on method __init__ in module SeisCL.SeisCL:\n",
      "\n",
      "__init__(N: numpy.ndarray = None, ND: int = 2, dh: float = 10, dt: float = 0.0008, NT: int = 875, L: int = 0, f0: float = 15, FL: numpy.ndarray = array(15), FDORDER: int = 8, MAXRELERROR: int = 1, FP16: int = 0, src_pos_all: numpy.ndarray = array([], shape=(5, 0), dtype=float64), rec_pos_all: numpy.ndarray = array([], shape=(8, 0), dtype=float64), src_all: numpy.ndarray = None, freesurf: int = 0, abs_type: int = 1, VPPML: float = 3500, NPOWER: float = 2, FPML: float = 15, K_MAX_CPML: float = 2, nab: int = 16, abpc: float = 6, with_docker: bool = False, with_mpi: bool = False, NP: int = 1, pref_device_type: int = 4, MPI_NPROC_SHOT: int = 1, nmax_dev: int = 1, no_use_GPUs: numpy.ndarray = array([-1]), gradout: int = 0, Hout: int = 0, gradsrcout: int = 0, back_prop_type: int = 1, cropgrad=True, gradfreqs: numpy.ndarray = array([], shape=(1, 0), dtype=float64), param_type: int = 0, tmax: float = 0, tmin: float = 0, fmin: float = 0, fmax: float = 0, filter_offset: bool = False, offmin: float = -inf, offmax: float = inf, inputres: int = 0, restype: int = 0, scalerms: int = 0, scalermsnorm: int = 0, scaleshot: int = 0, seisout: int = 2, resout: int = 0, rmsout: int = 0, movout: int = 0, file: str = 'SeisCL', workdir: str = './seiscl') method of SeisCL.SeisCL.SeisCL instance\n",
      "    You can define parameters controlling forward and adjoint computations\n",
      "    in the __init__ method or afterward.\n",
      "    \n",
      "    Parameters defining the spatial and temporal grid:\n",
      "    :param N:                Grid size [NZ, NX] in 2D or [NZ, NY, NX] in 3D\n",
      "    :param ND:               Flag for dimension.\n",
      "                             3: 3D, 2: 2D P-SV, 21: 2D SH, 22: 2D acoustic\n",
      "    :param dh:               Grid spatial spacing\n",
      "    :param dt:               Time step size\n",
      "    :param NT:               Number of time steps\n",
      "    \n",
      "    Parameters for the Generalized Standard linear solid implementing\n",
      "    seismic attenuation.\n",
      "    :param L:                Number of attenuation mechanism (L=0 elastic)\n",
      "    :param f0:               Central frequency of the relaxation. Also used\n",
      "                             as the peak frequency of the default ricker\n",
      "                             wavelet source\n",
      "    :param FL:               Frequencies of the attenuation mechanism\n",
      "    \n",
      "    Parameters of the finite difference stencils\n",
      "    :param FDORDER:          Order of the finite difference stencil\n",
      "                             Values: 2, 4, 6, 8, 10, 12\n",
      "    :param MAXRELERROR:      Select method to compute FD coefficients\n",
      "                             0: Taylor-coeff.\n",
      "                             Holberg-coeff with maximum phase velocity error\n",
      "                             1: 0.1 % 2: 0.5 % 3: 1.0 % 4: 3.0 %\n",
      "    :param FP16:             FP16 computation:\n",
      "                             0:FP32\n",
      "                             1:FP32 vectorized, (faster than 0)\n",
      "                             2: FP16 IO (computation are performed in FP32)\n",
      "                             3: FP16 IO + COMP (computation in FP16,\n",
      "                                                requires CUDA)\n",
      "    \n",
      "    Parameters controlling the acquisition\n",
      "    :param src_pos_all:      Position of all shots containted in dataset\n",
      "                             Array [sx sy sz srcid src_type] x nb sources\n",
      "                             The same srcid are fired simulatneously\n",
      "                             src_type: 100: Explosive, 0: Force in X, 1:\n",
      "                             Force in Y, 2:Force in Z\n",
      "    :param rec_pos_all:      Position of all the receivers in the dataset\n",
      "                             Array [gx gy gz srcid recid - - -] x nb traces\n",
      "                             srcid is the source number\n",
      "                             recid is the trace number in the record\n",
      "    :param src_all:          Source signals. NT x number of sources\n",
      "    \n",
      "    Parameters defining the Boundary conditions\n",
      "    :param freesurf:         Include a free surface 0: no, 1: yes\n",
      "    :param abs_type:         Absorbing boundary type:\n",
      "                             1: CPML, 2: Absorbing layer of Cerjan\n",
      "    :param VPPML:            Vp velocity near CPML boundary\n",
      "    :param NPOWER:           Exponent used in CMPL frame update\n",
      "    :param FPML:             Dominant frequency of the wavefield\n",
      "    :param K_MAX_CPML:       Coefficient involved in CPML\n",
      "                             (may influence simulation stability)\n",
      "    :param nab:              Width in grid points of the absorbing layer\n",
      "    :param abpc:             Exponential decay for absorbing layer of Cerjan\n",
      "    \n",
      "    Parameters controlling parallelization\n",
      "    :param with_docker:      If True, use a docker implementation of SeisCL\n",
      "    :param with_mpi:         Use mpi parallelization (True) or not.\n",
      "    :param NP:               Number of MPI processes to launch\n",
      "    :param pref_device_type: Type of processor used (OpenCL version):\n",
      "                             2: CPU, 4: GPU, 8: Accelerator\n",
      "    :param MPI_NPROC_SHOT:   Maximum number of MPI process (nodes or gpus)\n",
      "                             involved in domain decomposition\n",
      "    :param nmax_dev:         Maximum number of GPUs per process\n",
      "    :param no_use_GPUs:      Array of device numbers that should not be used\n",
      "    Example: 1--On a node with 4 GPUs, to use all 4 GPUs, each gpu computes\n",
      "             a different shot: with_mpi=True, NP=4, nmax_dev=1\n",
      "             2-- On a node with 4 GPUS, all of them used for model\n",
      "             decomposition: with_mpi=True, NP=1, nmax_dev=4\n",
      "    \n",
      "    Parameters controlling how the gradient is computed.\n",
      "    :param gradout:          Output gradient 1:yes, 0: no\n",
      "    :param Hout:             Output approximate Hessian 1:yes, 0: no\n",
      "    :param gradsrcout:       Output source gradient 1:yes, 0: no\n",
      "    :param back_prop_type:   Type of gradient calculation:\n",
      "                             1: backpropagation (elastic only)\n",
      "                             2: Discrete Fourier transform\n",
      "    :param cropgrad:         If true, when calling read_grad, the gradient\n",
      "                             in the absorbing boundaries are set to 0.\n",
      "    :param gradfreqs:        Frequencies of gradient with DFT\n",
      "    :param param_type:       Type of parametrization:\n",
      "                             0:(rho,vp,vs,taup,taus)\n",
      "                             1:(rho, M, mu, taup, taus),\n",
      "                             2:(rho, Ip, Is, taup, taus)\n",
      "    :param tmax:             Maximum time of gradient computation\n",
      "    :param tmin:             Minimum time of gradient computation\n",
      "    :param fmin:             Maximum frequency of gradient. A butterworh\n",
      "                             filter is used to remove frequencies lower\n",
      "                             than fmin\n",
      "    :param fmax:             Minimum frequency of gradient. A butterworh\n",
      "                             filter is used to remove frequencies lower\n",
      "                             than fmin\n",
      "    :param filter_offset:    If true, will only allow the minimum and\n",
      "                             maximum offset during computation\n",
      "    :param offmin:           Maximum offset to compute\n",
      "    :param offmax:           Minimum offset to compute\n",
      "    :param inputres:         If 1, the gradient computation needs the\n",
      "                             residuals (adjoint sources) to be provided.\n",
      "                             This allows to  compute the cost and adjoint\n",
      "                             sources in python, providing more flexibility.\n",
      "                             If 0, SeisCL computes the cost and adjoint\n",
      "                             sources.\n",
      "    \n",
      "    The rest of these parameters apply if inputres=0\n",
      "    :param restype:          Type of costfunction\n",
      "                             0: l2 cost. 1: Cross-correlation of traces\n",
      "    :param scalerms:         Scale each modeled and recorded traces\n",
      "                             according to its rms value, then scale residual\n",
      "                             by recorded trace rms when computing cost\n",
      "    :param scalermsnorm:     Scale each modeled and recorded traces\n",
      "                             according to its rms value before computing\n",
      "                             cost\n",
      "    :param scaleshot:        Scale all of the traces in each shot by the\n",
      "                             shot total rms value when computing cost\n",
      "    \n",
      "    Parameters setting the type of outputs\n",
      "    :param seisout:          Output seismograms\n",
      "                             1: output velocities,\n",
      "                             2: output pressure,\n",
      "                             3: output stresses, output everything\n",
      "    :param resout:           Output residuals 1:yes, 0: no\n",
      "    :param rmsout:           Output rms value of the cost 1:yes, 0: no\n",
      "    :param movout:           Output movie every n frames\n",
      "    \n",
      "    Parameters for file creation\n",
      "    :param file:            Base name of the file to create for SeisCL.\n",
      "                            Created files will be appended thr right suffix,\n",
      "                            i.e. the model file will be file_model.mat\n",
      "    :param workdir:         The name of the directory in which to create\n",
      "                            the file for SeisCL\n",
      "\n"
     ]
    }
   ],
   "source": [
    "help(seis.__init__)"
   ]
  },
  {
   "cell_type": "markdown",
   "metadata": {},
   "source": [
    "### Simulation Grid\n",
    "\n",
    "We begin setting the simulation grid, a 2D square domain of size $\\small 500 \\times 500 \\; m$ with a cell size of $2m$ in all directions. We perform 1000 timesteps with a step size of with  $0.25ms$ for a simulation time of $0.25s$."
   ]
  },
  {
   "cell_type": "code",
   "execution_count": 4,
   "metadata": {},
   "outputs": [],
   "source": [
    "seis.ND = 2                                 # Number of dimension\n",
    "seis.N = np.array([250, 250])               # Grid size [NZ, NX, NY]\n",
    "seis.dh = dh = 2                            # Grid spatial spacing\n",
    "seis.dt = dt = 0.25e-03                     # Time step size\n",
    "seis.NT = NT = 1000                         # Number of time steps"
   ]
  },
  {
   "cell_type": "markdown",
   "metadata": {},
   "source": [
    "### Velocity Model\n",
    "\n",
    "For the elastic wave equation, three material parameters are required : $V_p$, $V_s$ and $\\rho$. For the sake of simplicity, we the parameters are homegeneous throughout the model, with $V_p = 3500 m/s$, $V_s = 2000 m/s$, $\\rho = 2000 kg/m^3$. We store all parameters in a dictionnary, which will be used by the SeisCL class."
   ]
  },
  {
   "cell_type": "code",
   "execution_count": 5,
   "metadata": {},
   "outputs": [],
   "source": [
    "vp = 3500\n",
    "vs = 2000\n",
    "rho = 2000\n",
    "\n",
    "vp_a = np.zeros(seis.csts['N']) + vp\n",
    "vs_a = np.zeros(seis.csts['N']) + vs\n",
    "rho_a = np.zeros(seis.csts['N']) + rho\n",
    "\n",
    "model_dict = {\"vp\": vp_a, \"rho\": rho_a, \"vs\": vs_a} "
   ]
  },
  {
   "cell_type": "markdown",
   "metadata": {},
   "source": [
    "### Sources and receivers\n",
    "\n",
    "Source and receivers are totally custumizable by SeisCL: each source can have different receivers, and multiple sources can be fired simultaneously. This flexibilty comes with a price: the definition of the source and receivers becomes verbose pretty easily. \n",
    "\n",
    "We provide some utility methods to ease the definition of source and receivers. Here, we use the method `SeisCL.surface_acquisition_2d`, which create a surface acquisition geometry, with receivers and sources at a defined interval of the grid steps along all the model."
   ]
  },
  {
   "cell_type": "code",
   "execution_count": 6,
   "metadata": {
    "tags": []
   },
   "outputs": [],
   "source": [
    "seis.surface_acquisition_2d(ds=1000)        "
   ]
  },
  {
   "cell_type": "markdown",
   "metadata": {},
   "source": [
    "All this function did is to define the attributes `SeisCL.src_pos_all` and `SeisCL.rec_pos_all`."
   ]
  },
  {
   "cell_type": "code",
   "execution_count": 7,
   "metadata": {},
   "outputs": [
    {
     "name": "stdout",
     "output_type": "stream",
     "text": [
      "[[  36.]\n",
      " [   0.]\n",
      " [  36.]\n",
      " [   0.]\n",
      " [ 100.]]\n"
     ]
    }
   ],
   "source": [
    "print(seis.src_pos_all)"
   ]
  },
  {
   "cell_type": "markdown",
   "metadata": {},
   "source": [
    "We see here that we have one source, at x=36m, z= 36m (just outside the absorbing boundary), and that the source type is 100 (explosive source). The format of this array is [x, y, z, srcid, src_type], where all shots having the same src_id are fired simultaneously."
   ]
  },
  {
   "cell_type": "code",
   "execution_count": 8,
   "metadata": {},
   "outputs": [
    {
     "name": "stdout",
     "output_type": "stream",
     "text": [
      "[ 40.   0.  36.   0.   1.   0.   0.   0.]\n"
     ]
    }
   ],
   "source": [
    "print(seis.rec_pos_all[:,0])"
   ]
  },
  {
   "cell_type": "markdown",
   "metadata": {},
   "source": [
    "We see here that the first receiver is at x=40m and z=36m. The receiver is for the source id 0, and have the receiver id 1. The receiver id should be unique and start at 1 for the first receiver. The format of this array is [x, y, z, srcid, recid, src_type, none, none, none].\n"
   ]
  },
  {
   "cell_type": "markdown",
   "metadata": {},
   "source": [
    "### Simulation\n",
    "\n",
    "we can now perform the simulation. The method `SeisCL.set_forward` is used to initialize the simulation, i.e. writing the hdf5 files containing simulation parameters and the model. The method  `SeisCL.execute()` launches SeisCL (the compiled program) and wait for the end of execution. "
   ]
  },
  {
   "cell_type": "code",
   "execution_count": 12,
   "metadata": {},
   "outputs": [],
   "source": [
    "seis.set_forward([0], model_dict, withgrad=False)\n",
    "seis.execute()\n",
    "datafd = seis.read_data()[0]                             "
   ]
  },
  {
   "cell_type": "markdown",
   "metadata": {},
   "source": [
    "All hdf5 files are created in a temporary directory, called seiscl by default"
   ]
  },
  {
   "cell_type": "code",
   "execution_count": 13,
   "metadata": {},
   "outputs": [
    {
     "data": {
      "text/plain": [
       "['SeisCL_csts.mat', 'SeisCL_model.mat', 'SeisCL_cache', 'SeisCL_dout.mat']"
      ]
     },
     "execution_count": 13,
     "metadata": {},
     "output_type": "execute_result"
    }
   ],
   "source": [
    "os.listdir(\"./seiscl\")"
   ]
  },
  {
   "cell_type": "markdown",
   "metadata": {},
   "source": [
    "Each file contains specific information required for simulations:\n",
    "* `SeisCL_csts.mat` contains all simulation parameters (dt, dh, ...)\n",
    "* `SeisCL_model.mat` contains the material parameter arrays \n",
    "* `SeisCL_dout.mat` contains the simulated data."
   ]
  },
  {
   "cell_type": "markdown",
   "metadata": {},
   "source": [
    "### Visualization\n",
    "\n",
    "With matplotlib, we can finally analyze and visualize the result of our simulation.\n"
   ]
  },
  {
   "cell_type": "code",
   "execution_count": 14,
   "metadata": {
    "scrolled": false
   },
   "outputs": [
    {
     "data": {
      "image/png": "[encoded data removed]",
      "text/plain": [
       "<Figure size 288x432 with 1 Axes>"
      ]
     },
     "metadata": {
      "needs_background": "light"
     },
     "output_type": "display_data"
    }
   ],
   "source": [
    "clip = 0.1\n",
    "extent = [min(seis.rec_pos_all[0]), max(seis.rec_pos_all[0]), (datafd.shape[0]-1)*dt, 0]\n",
    "vmax = np.max(datafd) * clip\n",
    "vmin = -vmax\n",
    "fig, ax = plt.subplots(1, 1, figsize=[4, 6])\n",
    "ax.imshow(datafd, aspect='auto', vmax=vmax, vmin=vmin, extent = extent,\n",
    "                interpolation='bilinear', cmap=plt.get_cmap('Greys'))\n",
    "ax.set_title(\"FD solution to elastic wave equation in 2D \\n\", fontsize=16, fontweight='bold')\n",
    "ax.set_xlabel(\"Receiver position (m)\")\n",
    "ax.set_ylabel(\"time (s)\")\n",
    "plt.show()"
   ]
  },
  {
   "cell_type": "markdown",
   "metadata": {},
   "source": [
    "## Learn more\n",
    "SeisCL has many more capabilities, including viscoelastic propagation in 2D and 3D, parallelization on multiples devices, adjoint modeling and reverse time migration. You can learn more on these different features with the following notebooks.\n",
    "\n",
    "\n",
    " - [Model Building](Model_Building.ipynb)\n",
    " \n",
    " \n",
    " - [Sources & Receivers](Sources&Receivers.ipynb)\n",
    " \n",
    " \n",
    " - [Boundary Conditions](BoundaryLayers.ipynb)\n",
    " \n",
    " \n",
    " - [Free surface](FreeSurface.ipynb)\n",
    " \n",
    " \n",
    " - [Elastic & Viscoelastic modeling](Elastic&Viscoelastic-Modeling.ipynb)\n",
    " \n",
    " \n",
    " - [Analytical comparison](Analytical.ipynb)\n",
    " \n",
    " \n",
    " - [Dictionnary of constants](Dictionnary.ipynb)"
   ]
  },
  {
   "cell_type": "code",
   "execution_count": null,
   "metadata": {},
   "outputs": [],
   "source": []
  }
 ],
 "metadata": {
  "kernelspec": {
   "display_name": "Python 3",
   "language": "python",
   "name": "python3"
  },
  "language_info": {
   "codemirror_mode": {
    "name": "ipython",
    "version": 3
   },
   "file_extension": ".py",
   "mimetype": "text/x-python",
   "name": "python",
   "nbconvert_exporter": "python",
   "pygments_lexer": "ipython3",
   "version": "3.8.3"
  }
 },
 "nbformat": 4,
 "nbformat_minor": 2
}
